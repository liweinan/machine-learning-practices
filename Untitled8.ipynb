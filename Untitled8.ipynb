{
 "cells": [
  {
   "cell_type": "code",
   "execution_count": 1,
   "metadata": {},
   "outputs": [
    {
     "name": "stdout",
     "output_type": "stream",
     "text": [
      "hoshizora_kurotsurubami.png  done.\n",
      "hoshizora_ro.png  done.\n",
      "hoshizora_kuro.png  done.\n",
      "hoshizora_null.png  done.\n"
     ]
    }
   ],
   "source": [
    "from PIL import Image\n",
    "import math\n",
    "\n",
    "def fit(_):\n",
    "    _ = 255 if _ > 255 else _\n",
    "    return 0 if _ < 0 else _\n",
    "\n",
    "def spot(i, j):\n",
    "    v = math.tan( i * math.pow(i, math.sqrt(j) * 0.1) )\n",
    "    return fit(int(v))\n",
    "\n",
    "def hoshizora(colorname, value):\n",
    "    width, height = 1920, 1080\n",
    "    filename = \"hoshizora_{0}.png\"\n",
    "    im = Image.new(\"RGB\", (width, height), \"#000000\")\n",
    "    pixels = im.load()\n",
    "    threshold = int(0.299 * value[0] + 0.587 * value[2] + 0.114 * value[1])\n",
    "    for i in range(0, width):\n",
    "        for j in range(0, height):\n",
    "            _ = spot(i, j)\n",
    "            if _ <= threshold:\n",
    "                pixels[i, j] = value\n",
    "            else:\n",
    "                pixels[i, j] = (_, _, _)\n",
    "    im.save(filename.format(colorname.lower()))\n",
    "    print(filename.format(colorname.lower()), \" done.\")\n",
    "\n",
    "def main():\n",
    "    background = {\n",
    "        \"KUROTSURUBAMI\": (11, 16, 19),\n",
    "        \"RO\": (12, 12, 12),\n",
    "        \"KURO\": (8, 8, 8),\n",
    "        \"NULL\": (0, 0, 0),\n",
    "    }\n",
    "    for (k, v) in background.items():\n",
    "        hoshizora(k, v)\n",
    "\n",
    "if __name__ == '__main__':\n",
    "    main()"
   ]
  },
  {
   "cell_type": "code",
   "execution_count": null,
   "metadata": {},
   "outputs": [],
   "source": []
  }
 ],
 "metadata": {
  "kernelspec": {
   "display_name": "Python 3",
   "language": "python",
   "name": "python3"
  },
  "language_info": {
   "codemirror_mode": {
    "name": "ipython",
    "version": 3
   },
   "file_extension": ".py",
   "mimetype": "text/x-python",
   "name": "python",
   "nbconvert_exporter": "python",
   "pygments_lexer": "ipython3",
   "version": "3.6.4"
  }
 },
 "nbformat": 4,
 "nbformat_minor": 2
}
