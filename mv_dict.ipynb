{
 "cells": [
  {
   "cell_type": "code",
   "execution_count": 1,
   "metadata": {},
   "outputs": [
    {
     "name": "stdout",
     "output_type": "stream",
     "text": [
      "初始化key的list： []\n",
      "插入的新列表： [[1, 2, 3]]\n",
      "字典里的内容：\n",
      "3 :  [[1, 2, 3]]\n",
      "插入的新列表： [[1, 2, 3], [4, 5, 6]]\n",
      "字典里的内容：\n",
      "3 :  [[1, 2, 3], [4, 5, 6]]\n",
      "初始化key的list： []\n",
      "插入的新列表： [['x', 'y']]\n",
      "字典里的内容：\n",
      "3 :  [[1, 2, 3], [4, 5, 6]]\n",
      "2 :  [['x', 'y']]\n",
      "初始化key的list： []\n",
      "插入的新列表： [['C', 'A', 'F', 'E']]\n",
      "字典里的内容：\n",
      "3 :  [[1, 2, 3], [4, 5, 6]]\n",
      "2 :  [['x', 'y']]\n",
      "4 :  [['C', 'A', 'F', 'E']]\n",
      "插入的新列表： [['C', 'A', 'F', 'E'], ['B', 'A', 'B', 'E']]\n",
      "字典里的内容：\n",
      "3 :  [[1, 2, 3], [4, 5, 6]]\n",
      "2 :  [['x', 'y']]\n",
      "4 :  [['C', 'A', 'F', 'E'], ['B', 'A', 'B', 'E']]\n",
      "排序后的dict：\n",
      "2 :  [['x', 'y']]\n",
      "3 :  [[1, 2, 3], [4, 5, 6]]\n",
      "4 :  [['C', 'A', 'F', 'E'], ['B', 'A', 'B', 'E']]\n",
      "最大长度的列表们：\n",
      "[['C', 'A', 'F', 'E'], ['B', 'A', 'B', 'E']]\n"
     ]
    }
   ],
   "source": [
    "import collections\n",
    "\n",
    "\n",
    "class MultiValuedDict:\n",
    "    def __init__(self):\n",
    "        self.dict = {}\n",
    "\n",
    "    def put(self, lst):\n",
    "        key = len(lst)\n",
    "        if not self.dict.get(key):\n",
    "            self.dict[key] = []\n",
    "            print(\"初始化key的list：\", self.dict[key])\n",
    "\n",
    "        self.dict[key].append(lst)\n",
    "        print(\"插入的新列表：\", self.dict.get(key))\n",
    "\n",
    "    def dump(self):\n",
    "        print(\"字典里的内容：\")\n",
    "        self.dump_dict(self.dict)\n",
    "\n",
    "    def dump_dict(self, dict):\n",
    "        for k, vs in dict.items():\n",
    "            print(k, \": \", vs)\n",
    "\n",
    "    def find_max(self):\n",
    "        sorted_dict = collections.OrderedDict(sorted(self.dict.items()))\n",
    "        print(\"排序后的dict：\")\n",
    "        self.dump_dict(sorted_dict)\n",
    "        # 返回最大长度的列表们\n",
    "        # last one is max one because items are sorted\n",
    "        last_one = len(list(sorted_dict.keys())) - 1\n",
    "        return list(sorted_dict.values())[last_one]\n",
    "\n",
    "\n",
    "multiValuedDict = MultiValuedDict()\n",
    "multiValuedDict.put([1, 2, 3])\n",
    "multiValuedDict.dump()\n",
    "multiValuedDict.put([4, 5, 6])\n",
    "multiValuedDict.dump()\n",
    "multiValuedDict.put(['x', 'y'])\n",
    "multiValuedDict.dump()\n",
    "multiValuedDict.put(['C', 'A', 'F', 'E'])\n",
    "multiValuedDict.dump()\n",
    "multiValuedDict.put(['B', 'A', 'B', 'E'])\n",
    "multiValuedDict.dump()\n",
    "max_lists = multiValuedDict.find_max()\n",
    "print(\"最大长度的列表们：\")\n",
    "print(max_lists)"
   ]
  },
  {
   "cell_type": "code",
   "execution_count": null,
   "metadata": {
    "collapsed": true
   },
   "outputs": [],
   "source": []
  }
 ],
 "metadata": {
  "kernelspec": {
   "display_name": "Python 3",
   "language": "python",
   "name": "python3"
  },
  "language_info": {
   "codemirror_mode": {
    "name": "ipython",
    "version": 3
   },
   "file_extension": ".py",
   "mimetype": "text/x-python",
   "name": "python",
   "nbconvert_exporter": "python",
   "pygments_lexer": "ipython3",
   "version": "3.6.3"
  }
 },
 "nbformat": 4,
 "nbformat_minor": 2
}
