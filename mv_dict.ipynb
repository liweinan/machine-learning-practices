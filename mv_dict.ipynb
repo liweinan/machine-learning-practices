{
 "cells": [
  {
   "cell_type": "code",
   "execution_count": 1,
   "metadata": {},
   "outputs": [
    {
     "name": "stdout",
     "output_type": "stream",
     "text": [
      "初始化key的list： []\n",
      "插入的新列表： [[1, 2, 3]]\n",
      "字典里的内容：\n",
      "3 :  [[1, 2, 3]]\n",
      "插入的新列表： [[1, 2, 3], [4, 5, 6]]\n",
      "字典里的内容：\n",
      "3 :  [[1, 2, 3], [4, 5, 6]]\n"
     ]
    }
   ],
   "source": [
    "class MultiValuedDict:\n",
    "    def __init__(self):\n",
    "        self.theDict = {}\n",
    "\n",
    "    def put(self, lst):\n",
    "        key = str(len(lst))\n",
    "        if not self.theDict.get(key):\n",
    "            self.theDict[key] = []\n",
    "            print(\"初始化key的list：\", self.theDict[key])\n",
    "\n",
    "        self.theDict[key].append(lst)\n",
    "        print(\"插入的新列表：\", self.theDict.get(key))\n",
    "\n",
    "    def dump(self):\n",
    "        print(\"字典里的内容：\")\n",
    "        for k, vs in self.theDict.items():\n",
    "            print(k, \": \", vs)\n",
    "\n",
    "\n",
    "multiValuedDict = MultiValuedDict()\n",
    "multiValuedDict.put([1, 2, 3])\n",
    "multiValuedDict.dump()\n",
    "multiValuedDict.put([4, 5, 6])\n",
    "multiValuedDict.dump()"
   ]
  },
  {
   "cell_type": "code",
   "execution_count": null,
   "metadata": {
    "collapsed": true
   },
   "outputs": [],
   "source": []
  }
 ],
 "metadata": {
  "kernelspec": {
   "display_name": "Python 3",
   "language": "python",
   "name": "python3"
  },
  "language_info": {
   "codemirror_mode": {
    "name": "ipython",
    "version": 3
   },
   "file_extension": ".py",
   "mimetype": "text/x-python",
   "name": "python",
   "nbconvert_exporter": "python",
   "pygments_lexer": "ipython3",
   "version": "3.6.3"
  }
 },
 "nbformat": 4,
 "nbformat_minor": 2
}
