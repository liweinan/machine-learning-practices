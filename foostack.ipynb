{
 "cells": [
  {
   "cell_type": "code",
   "execution_count": 65,
   "metadata": {},
   "outputs": [],
   "source": [
    "class Stack:\n",
    "\n",
    "    # Creates an empty stack.\n",
    "    def __init__(self):\n",
    "        self._theItems=list()\n",
    "\n",
    "    # Returns True if the stack is empty or False otherwise.\n",
    "    def isEmpty(self):\n",
    "        return  len(self._theItems) == 0\n",
    "\n",
    "    # Returns the number of items in the stack.\n",
    "    def __len__(self):\n",
    "        return(len(self._theItems))\n",
    "\n",
    "    # Returns the top item on the stack without removing it.\n",
    "    def peek(self):\n",
    "        assert not self.isEmpty(),\"Cannot peek at an empty stack\"\n",
    "        # 你这样不行的，item还在theItems里面：\n",
    "        # return self._theItems[-1]\n",
    "        # 改成这样：\n",
    "        item = self._theItems[0]\n",
    "        # 这其实不就是重新创建了一个新的list，把第一个元素除掉：\n",
    "        self._theItems = self._theItems[1:]\n",
    "        return item\n",
    "\n",
    "    # Removes and returns the top item on the stack.\n",
    "    def pop(self):\n",
    "        assert not self.isEmpty(),\"Cannot peek at an empty stack\"\n",
    "        return self._theItems.pop()\n",
    "\n",
    "    # Push an item onto the top of the stack.\n",
    "    def push (self, item):\n",
    "        self._theItems.append(item)\n",
    "    \n",
    "    # 加一个查看items的函数会比较方便\n",
    "    def dump(self):\n",
    "        print(self._theItems)"
   ]
  },
  {
   "cell_type": "code",
   "execution_count": 66,
   "metadata": {},
   "outputs": [],
   "source": [
    "myStack = Stack()"
   ]
  },
  {
   "cell_type": "code",
   "execution_count": 67,
   "metadata": {},
   "outputs": [],
   "source": [
    "myStack.push(2)\n",
    "myStack.push(3)\n",
    "myStack.push('x')"
   ]
  },
  {
   "cell_type": "code",
   "execution_count": 68,
   "metadata": {},
   "outputs": [
    {
     "name": "stdout",
     "output_type": "stream",
     "text": [
      "[2, 3, 'x']\n"
     ]
    }
   ],
   "source": [
    "myStack.dump()"
   ]
  },
  {
   "cell_type": "code",
   "execution_count": 69,
   "metadata": {},
   "outputs": [
    {
     "name": "stdout",
     "output_type": "stream",
     "text": [
      "3\n"
     ]
    }
   ],
   "source": [
    "print(len(myStack)) # 会调用你的__len__方法"
   ]
  },
  {
   "cell_type": "code",
   "execution_count": 70,
   "metadata": {},
   "outputs": [
    {
     "data": {
      "text/plain": [
       "'x'"
      ]
     },
     "execution_count": 70,
     "metadata": {},
     "output_type": "execute_result"
    }
   ],
   "source": [
    "myStack.pop()"
   ]
  },
  {
   "cell_type": "code",
   "execution_count": 71,
   "metadata": {},
   "outputs": [
    {
     "name": "stdout",
     "output_type": "stream",
     "text": [
      "[2, 3]\n"
     ]
    }
   ],
   "source": [
    "myStack.dump()"
   ]
  },
  {
   "cell_type": "code",
   "execution_count": 72,
   "metadata": {},
   "outputs": [
    {
     "data": {
      "text/plain": [
       "2"
      ]
     },
     "execution_count": 72,
     "metadata": {},
     "output_type": "execute_result"
    }
   ],
   "source": [
    "myStack.peek()"
   ]
  },
  {
   "cell_type": "code",
   "execution_count": 73,
   "metadata": {},
   "outputs": [
    {
     "name": "stdout",
     "output_type": "stream",
     "text": [
      "[3]\n"
     ]
    }
   ],
   "source": [
    "myStack.dump()"
   ]
  },
  {
   "cell_type": "code",
   "execution_count": null,
   "metadata": {},
   "outputs": [],
   "source": []
  }
 ],
 "metadata": {
  "kernelspec": {
   "display_name": "Python 3",
   "language": "python",
   "name": "python3"
  },
  "language_info": {
   "codemirror_mode": {
    "name": "ipython",
    "version": 3
   },
   "file_extension": ".py",
   "mimetype": "text/x-python",
   "name": "python",
   "nbconvert_exporter": "python",
   "pygments_lexer": "ipython3",
   "version": "3.6.4"
  }
 },
 "nbformat": 4,
 "nbformat_minor": 2
}
