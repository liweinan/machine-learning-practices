{
 "cells": [
  {
   "cell_type": "markdown",
   "metadata": {},
   "source": [
    "# https://leetcode.com/problems/binary-tree-right-side-view/description/"
   ]
  },
  {
   "cell_type": "code",
   "execution_count": 1,
   "metadata": {},
   "outputs": [],
   "source": [
    "class BinaryNode:\n",
    "    def __init__(self, data):\n",
    "        self.left = None\n",
    "        self.right = None\n",
    "        self.data = data\n",
    "\n",
    "\n",
    "class BinaryTree:\n",
    "    \"\"\" A Binary Tree class \"\"\"\n",
    "\n",
    "    def __init__(self):\n",
    "        self.root = None\n",
    "\n",
    "    def insert(self, data):\n",
    "        print(\"-> \", data)\n",
    "        self.root = self.__insert(self.root, data)\n",
    "\n",
    "    def __insert(self, node, data):\n",
    "        if node is None:\n",
    "            print(\"node is None\")\n",
    "            node = BinaryNode(data)  # No node exists so we create a new node\n",
    "        elif data < node.data:\n",
    "            print(\"data < node.data | \", data, \"<\", node.data)\n",
    "            node.left = self.__insert(node.left, data)  # data is smaller than the current node so go to the left\n",
    "        elif data > node.data:\n",
    "            print(\"data > node.data | \", data, \">\", node.data)\n",
    "            node.right = self.__insert(node.right, data)\n",
    "        return node\n",
    "\n",
    "    def print_tree(self):\n",
    "        self.__print_tree(self.root, 1)\n",
    "\n",
    "    def __print_tree(self, node, depth):\n",
    "        if node is None:\n",
    "            return\n",
    "        self.__print_tree(node.left, depth + 1)\n",
    "\n",
    "        if self.root == node:\n",
    "            print(\"*\", node.data)\n",
    "        else:\n",
    "            print(\"  \" * depth, node.data)\n",
    "\n",
    "        self.__print_tree(node.right, depth + 1)\n",
    "\n",
    "    def max_depth(self):\n",
    "        return self.__max_depth(self.root)\n",
    "\n",
    "    def __max_depth(self, node):\n",
    "        if node is None:\n",
    "            return 0\n",
    "        return max(self.__max_depth(node.left), self.__max_depth(node.right)) + 1\n",
    "\n",
    "    def exists(self, data):\n",
    "        return self.__exists(self.root, data)\n",
    "\n",
    "    def __exists(self, node, data):\n",
    "        if node is None:\n",
    "            return False\n",
    "        print(node.data)\n",
    "        if data < node.data:\n",
    "            return self.__exists(node.left, data)\n",
    "        elif data > node.data:\n",
    "            return self.__exists(node.right, data)\n",
    "        else:\n",
    "            return True\n",
    "\n",
    "    def leaf_count(self):\n",
    "        return self.__leaf_count(self.root)\n",
    "\n",
    "    def __leaf_count(self, node):\n",
    "        if node is None:\n",
    "            return 0\n",
    "        if node.right is None and node.left is None:\n",
    "            return 1\n",
    "        else:\n",
    "            return self.__leaf_count(node.left) + self.__leaf_count(node.right)\n",
    "\n",
    "    def node_count(self, depth):\n",
    "        return self.__node_count(self.root, depth)\n",
    "\n",
    "    def __node_count(self, node, depth):\n",
    "        if node is None:\n",
    "            return 0\n",
    "        if depth == 0:\n",
    "            return 1  # trivial case with the root being the only node\n",
    "\n",
    "        return self.__node_count(node.left, depth - 1) + self.__node_count(node.right, depth - 1)\n",
    "\n",
    "    def right_side_view(self):\n",
    "        \"\"\"\n",
    "        思路很简单：从root节点开始，一层一层往下走。\n",
    "        因为root知道自己的left, right，所以下一层的左右关系知道了。\n",
    "        然后第二层的下一层就是本层的：left -> left，left -> right，right -> left，right -> right\n",
    "\n",
    "        因此推广以后，逻辑就是：\n",
    "\n",
    "        其实：从root开始。\n",
    "\n",
    "        接下来：\n",
    "        - 从左到右遍历本层的每一个node，push它们每一个的left，most，就得到了下一层的nodes（并且是从左到右）\n",
    "        - 进入下一层\n",
    "        - 重复上面两步\n",
    "\n",
    "        :return:\n",
    "        \"\"\"\n",
    "        # 首先打印出root node\n",
    "        # root node在它自己这一层肯定是rightmost的。\n",
    "        print(\"*\", self.root.data)\n",
    "\n",
    "        # 我们要用到两个数组交替使用，\n",
    "        # 一个是正在遍历的本层nodes，\n",
    "        # 另一个是根据本层nodes生成的下一层nodes列表。\n",
    "        foos = [self.root]  # foos的初始值是list\n",
    "        bars = []  # bars用来保存foos的next level nodes，然后完成一次循环后，再交换。见下面实现即可。\n",
    "        foobars = [foos, bars]\n",
    "\n",
    "        # 使用x变量在两个数组之间切换。\n",
    "        # 因为我们每完成一次循环，要把下一级数组作为本级数组，\n",
    "        # 然后把本级数组清空，用来保存下一级数组。\n",
    "        x = 0\n",
    "\n",
    "        __max_depth = self.max_depth()  # 得到tree的层数，用来遍历每一层。\n",
    "\n",
    "        # 遍历树的所有层。\n",
    "        for d in range(__max_depth):  # 我们其实用不上d这个变量，只是要这么多的循环次数。\n",
    "            # 遍历本层nodes，生成下一层的list。\n",
    "            # 初始化为foobars[0]，里面是foos的初始值，也就是root。\n",
    "            # 后续会是一层一层往下走。\n",
    "            for n in foobars[x]:\n",
    "                # 按顺序遍历本层的每一个node，然后生成下一层的node list，因为本层是从左到右，\n",
    "                # 下一层也是从左到右这样，所以每一层的list都是按顺序排列的。\n",
    "                if n.left is not None:\n",
    "                    foobars[1 - x].append(n.left)\n",
    "                if n.right is not None:\n",
    "                    foobars[1 - x].append(n.right)\n",
    "\n",
    "            # 遍历完本层后，拿出本层的rightmost元素\n",
    "            rightmost = foobars[x][len(foobars[x]) - 1]\n",
    "            print(rightmost.data)\n",
    "\n",
    "            # 接下来要进入下一次循环了\n",
    "            # 要使用下一层的node list\n",
    "            x = 1 - x  # 因此，交换一下数组\n",
    "            foobars[1 - x] = []  # 清空本层数组，用于下一次循环中保存下下层node list。"
   ]
  },
  {
   "cell_type": "code",
   "execution_count": 2,
   "metadata": {},
   "outputs": [
    {
     "name": "stdout",
     "output_type": "stream",
     "text": [
      "->  9\n",
      "node is None\n",
      "->  4\n",
      "data < node.data |  4 < 9\n",
      "node is None\n",
      "->  12\n",
      "data > node.data |  12 > 9\n",
      "node is None\n",
      "->  6\n",
      "data < node.data |  6 < 9\n",
      "data > node.data |  6 > 4\n",
      "node is None\n",
      "->  3\n",
      "data < node.data |  3 < 9\n",
      "data < node.data |  3 < 4\n",
      "node is None\n",
      "->  7\n",
      "data < node.data |  7 < 9\n",
      "data > node.data |  7 > 4\n",
      "data > node.data |  7 > 6\n",
      "node is None\n",
      "->  5\n",
      "data < node.data |  5 < 9\n",
      "data > node.data |  5 > 4\n",
      "data < node.data |  5 < 6\n",
      "node is None\n"
     ]
    }
   ],
   "source": [
    "tree3 = BinaryTree()\n",
    "tree3.insert(9)\n",
    "tree3.insert(4)\n",
    "tree3.insert(12)\n",
    "tree3.insert(6)\n",
    "tree3.insert(3)\n",
    "tree3.insert(7)\n",
    "tree3.insert(5)"
   ]
  },
  {
   "cell_type": "code",
   "execution_count": 3,
   "metadata": {},
   "outputs": [
    {
     "name": "stdout",
     "output_type": "stream",
     "text": [
      "       3\n",
      "     4\n",
      "         5\n",
      "       6\n",
      "         7\n",
      "* 9\n",
      "     12\n"
     ]
    }
   ],
   "source": [
    "tree3.print_tree()"
   ]
  },
  {
   "cell_type": "code",
   "execution_count": 4,
   "metadata": {},
   "outputs": [
    {
     "name": "stdout",
     "output_type": "stream",
     "text": [
      "* 9\n",
      "9\n",
      "12\n",
      "6\n",
      "7\n"
     ]
    }
   ],
   "source": [
    "tree3.right_side_view()"
   ]
  },
  {
   "cell_type": "code",
   "execution_count": 10,
   "metadata": {},
   "outputs": [
    {
     "name": "stdout",
     "output_type": "stream",
     "text": [
      "->  3\n",
      "node is None\n",
      "->  4\n",
      "data > node.data |  4 > 3\n",
      "node is None\n",
      "->  2\n",
      "data < node.data |  2 < 3\n",
      "node is None\n",
      "->  5\n",
      "data > node.data |  5 > 3\n",
      "data > node.data |  5 > 4\n",
      "node is None\n",
      "->  1\n",
      "data < node.data |  1 < 3\n",
      "data < node.data |  1 < 2\n",
      "node is None\n",
      "       1\n",
      "     2\n",
      "* 3\n",
      "     4\n",
      "       5\n"
     ]
    }
   ],
   "source": [
    "tree4 = BinaryTree()\n",
    "tree4.insert(3)\n",
    "tree4.insert(4)\n",
    "tree4.insert(2)\n",
    "tree4.insert(5)\n",
    "tree4.insert(1)\n",
    "tree4.print_tree()"
   ]
  },
  {
   "cell_type": "code",
   "execution_count": 11,
   "metadata": {},
   "outputs": [
    {
     "name": "stdout",
     "output_type": "stream",
     "text": [
      "* 3\n",
      "3\n",
      "4\n",
      "5\n"
     ]
    }
   ],
   "source": [
    "tree4.right_side_view()"
   ]
  },
  {
   "cell_type": "code",
   "execution_count": null,
   "metadata": {},
   "outputs": [],
   "source": []
  }
 ],
 "metadata": {
  "kernelspec": {
   "display_name": "Python 3",
   "language": "python",
   "name": "python3"
  },
  "language_info": {
   "codemirror_mode": {
    "name": "ipython",
    "version": 3
   },
   "file_extension": ".py",
   "mimetype": "text/x-python",
   "name": "python",
   "nbconvert_exporter": "python",
   "pygments_lexer": "ipython3",
   "version": "3.6.3"
  }
 },
 "nbformat": 4,
 "nbformat_minor": 2
}
