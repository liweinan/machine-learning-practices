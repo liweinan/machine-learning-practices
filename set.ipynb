{
 "cells": [
  {
   "cell_type": "code",
   "execution_count": 8,
   "metadata": {},
   "outputs": [
    {
     "name": "stdout",
     "output_type": "stream",
     "text": [
      "x\n",
      "y\n",
      "z\n",
      "第二次迭代：\n",
      "x\n",
      "y\n",
      "z\n",
      "删一个元素，看看迭代器是否工作正常：\n",
      "y\n",
      "z\n",
      "添加一个元素，看看迭代器工作是否正常：\n",
      "y\n",
      "z\n",
      "foo\n"
     ]
    }
   ],
   "source": [
    "class Bag:\n",
    "    \"\"\"\n",
    "    Implements the Bag ADT container using a Python list.\n",
    "    \"\"\"\n",
    "\n",
    "    # Constructs an empty bag.\n",
    "    def __init__(self):\n",
    "        self._theItems = list()  # 一般习惯把内部变量（就是不想让class以外的调用者访问到的变量）用下划线作为名字的开始\n",
    "        # 作为一种命名的convention。\n",
    "        # 初始化迭代器的位置\n",
    "        self._current = 0\n",
    "\n",
    "    # Returns the number of items in the bag.\n",
    "    def length(self):\n",
    "        return len(self._theItems)  # len(...)是python自己提供的函数，我们调用一下就可以实现自己的length函数了\n",
    "\n",
    "    # Determines if an item is contained in the bag.\n",
    "    def contains(self, item):\n",
    "        return item in self._theItems\n",
    "\n",
    "    # Adds a new item to the bag.\n",
    "    def add(self, item):\n",
    "        self._theItems.append(item)\n",
    "        # 记录新的数据长度：\n",
    "        self._len = len(self._theItems)\n",
    "\n",
    "    # Removes and returns an instance of the item from the bag.\n",
    "    def remove(self, item):\n",
    "        assert item in self._theItems, \"Bag里面没有找到你要删的这个item！！！\"\n",
    "        ndx = self._theItems.index(item)\n",
    "        deletedItem = self._theItems.pop(ndx)\n",
    "        # 记录新的数据长度：\n",
    "        self._len = len(self._theItems)\n",
    "        return deletedItem\n",
    "\n",
    "    # 这个方法用来告诉Python具体要迭代的数据，一般就是自身\n",
    "    def __iter__(self):\n",
    "        return self\n",
    "\n",
    "    # 这个方法其实就是for循环真正要调用的函数\n",
    "    def __next__(self):\n",
    "        if self._current >= self._len:\n",
    "            # 迭代完成，重设位置清零，为了下次用户调用迭代作准备\n",
    "            self._current = 0\n",
    "            # 判断是否元素都访问完了，如果是，就停止迭代。\n",
    "            raise StopIteration\n",
    "        else:\n",
    "            self._current += 1\n",
    "            return self._theItems[self._current - 1]\n",
    "\n",
    "\n",
    "bag = Bag()\n",
    "bag.add('x')\n",
    "bag.add('y')\n",
    "bag.add('z')\n",
    "\n",
    "for item in bag:\n",
    "    print(item)\n",
    "\n",
    "print(\"第二次迭代：\")\n",
    "# 迭代两次，验证迭代器是可以多次调用的\n",
    "for item in bag:\n",
    "    print(item)\n",
    "\n",
    "print(\"删一个元素，看看迭代器是否工作正常：\")\n",
    "bag.remove('x')\n",
    "for item in bag:\n",
    "    print(item)\n",
    "\n",
    "print(\"添加一个元素，看看迭代器工作是否正常：\")\n",
    "bag.add(\"foo\")\n",
    "for item in bag:\n",
    "    print(item)"
   ]
  },
  {
   "cell_type": "code",
   "execution_count": 9,
   "metadata": {},
   "outputs": [],
   "source": [
    "# Set和Bag的区别就是，Set这种数据结构里面不可以有重复的元素。\n",
    "class Set(Bag):\n",
    "    # 所以我们让Set继承Bag，然后把add方法重新实现一下就可以了，其它的功能和Bag一致。\n",
    "    def add(self, item):\n",
    "        # 和Bag的唯一区别就是，判断一下要添加的item，是不是已经存在了。\n",
    "        if item in self._theItems:\n",
    "            pass\n",
    "        else:\n",
    "            self._theItems.append(item)\n",
    "            self._len = len(self._theItems)"
   ]
  },
  {
   "cell_type": "code",
   "execution_count": 10,
   "metadata": {},
   "outputs": [],
   "source": [
    "set = Set()\n",
    "set.add('x')\n",
    "set.add('y')\n",
    "set.add('y') # 添加重复数据试试看，应该是不会被添加进去的，仍然只有一个'y'\n",
    "set.add('z')"
   ]
  },
  {
   "cell_type": "code",
   "execution_count": 11,
   "metadata": {},
   "outputs": [
    {
     "data": {
      "text/plain": [
       "3"
      ]
     },
     "execution_count": 11,
     "metadata": {},
     "output_type": "execute_result"
    }
   ],
   "source": [
    "set.length() # 只有三个items, 说明重复的y没有被添加"
   ]
  },
  {
   "cell_type": "code",
   "execution_count": 12,
   "metadata": {},
   "outputs": [
    {
     "name": "stdout",
     "output_type": "stream",
     "text": [
      "x\n",
      "y\n",
      "z\n"
     ]
    }
   ],
   "source": [
    "for item in set: # 查看set里面的数据\n",
    "    print(item)"
   ]
  },
  {
   "cell_type": "code",
   "execution_count": null,
   "metadata": {},
   "outputs": [],
   "source": []
  }
 ],
 "metadata": {
  "kernelspec": {
   "display_name": "Python 3",
   "language": "python",
   "name": "python3"
  },
  "language_info": {
   "codemirror_mode": {
    "name": "ipython",
    "version": 3
   },
   "file_extension": ".py",
   "mimetype": "text/x-python",
   "name": "python",
   "nbconvert_exporter": "python",
   "pygments_lexer": "ipython3",
   "version": "3.6.4"
  }
 },
 "nbformat": 4,
 "nbformat_minor": 2
}
