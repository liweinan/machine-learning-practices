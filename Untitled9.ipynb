{
 "cells": [
  {
   "cell_type": "code",
   "execution_count": 1,
   "metadata": {},
   "outputs": [],
   "source": [
    "import codecs"
   ]
  },
  {
   "cell_type": "code",
   "execution_count": 2,
   "metadata": {},
   "outputs": [],
   "source": [
    "f = codecs.open(\"readme.txt\", encoding=\"gb2312\")"
   ]
  },
  {
   "cell_type": "code",
   "execution_count": 3,
   "metadata": {},
   "outputs": [
    {
     "name": "stdout",
     "output_type": "stream",
     "text": [
      "'访问所有公司的程序\\r\\n'\n",
      "'\\r\\n'\n",
      "'使用说明：\\r\\n'\n",
      "'1、cmd进python安装包的scripts包，使用pip安装web、json、 xlrd、csv、geopy、os几个库。如果运行发现控制台报No module XXX  就用pip install XXX安装就可以。 \\r\\n'\n",
      "'Note:装web用pip install web.py\\r\\n'\n",
      "'2、attention.py是整合之后的程序，使用地址http://127.0.0.1:8080/pic2/、http://127.0.0.1:8080/pic3/ 、http://127.0.0.1:8080/pic4/ 可访问三个图，其中http://127.0.0.1:8080/pic3/ 可在results文件夹内生成每日访问量文件，命名为“年份+_all.txt\"。\\r\\n'\n",
      "'3、attention2.py、attention3.py、attention4.py分别为画pic2、pic3、pic4两个图单独的程序。\\r\\n'\n",
      "'4、该程序要运行前会自动判断static文件夹内是否有该年份的地理位置，如果没有则启动会比较慢，因为会进行预处理将每个经纬度所在地址存在文本（即prepareData()产生geo.txt, getAddr()产生geoAddr.txt)。\\r\\n'\n",
      "'5、要访问其他年份的文件，只需要修改代码前面的year变量，另外将该年份的数据放到static文件夹内即可。\\r\\n'\n",
      "'\\r\\n'\n",
      "'\\r\\n'\n",
      "'几个文件的说明：\\r\\n'\n",
      "'1、static文件夹内的USA.json是页面画美国地图必须的json，里面的内容是美国内部的位置及全部经纬度信息，这个只需引入即可，无需了解。\\r\\n'\n",
      "'2、show_result2.html、show_result3.html、show_result4.html这三个文件是我写的页面文件，分别对应pic2、pic3、pic4三个页面。\\r\\n'\n",
      "'3、results文件夹存放的是生成的每日访问量文本和页面的截图（截图只能手动）。\\r\\n'\n",
      "'\\r\\n'\n"
     ]
    }
   ],
   "source": [
    "for line in f:\n",
    "    print(repr(line))"
   ]
  },
  {
   "cell_type": "code",
   "execution_count": 19,
   "metadata": {},
   "outputs": [],
   "source": [
    "with codecs.open(\"test_output\", \"w\", \"utf-8-sig\") as temp:\n",
    "    for line in f:\n",
    "            temp.write(line)\n",
    "    temp.close()"
   ]
  },
  {
   "cell_type": "code",
   "execution_count": 17,
   "metadata": {},
   "outputs": [],
   "source": [
    "utffile = codecs.open(\"test_output\", encoding=\"utf-8\")"
   ]
  },
  {
   "cell_type": "code",
   "execution_count": 18,
   "metadata": {},
   "outputs": [],
   "source": [
    "for line in utffile:\n",
    "    print(repr(line))"
   ]
  },
  {
   "cell_type": "code",
   "execution_count": null,
   "metadata": {},
   "outputs": [],
   "source": []
  }
 ],
 "metadata": {
  "kernelspec": {
   "display_name": "Python 3",
   "language": "python",
   "name": "python3"
  },
  "language_info": {
   "codemirror_mode": {
    "name": "ipython",
    "version": 3
   },
   "file_extension": ".py",
   "mimetype": "text/x-python",
   "name": "python",
   "nbconvert_exporter": "python",
   "pygments_lexer": "ipython3",
   "version": "3.6.3"
  }
 },
 "nbformat": 4,
 "nbformat_minor": 2
}
